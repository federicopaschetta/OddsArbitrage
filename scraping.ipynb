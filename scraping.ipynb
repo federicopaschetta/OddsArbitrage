{
 "cells": [
  {
   "cell_type": "code",
   "execution_count": 21,
   "metadata": {},
   "outputs": [],
   "source": [
    "import pandas as pd # DataFrame management\n",
    "from selenium import webdriver # WebScraping driver\n",
    "from selenium.webdriver.common.by import By # WebScraping property library\n",
    "import time # Sleep library"
   ]
  },
  {
   "cell_type": "code",
   "execution_count": 22,
   "metadata": {},
   "outputs": [],
   "source": [
    "def get_and_accept_cookies(driver, url: str) -> None:\n",
    "    driver.get(url)\n",
    "    time.sleep(1)\n",
    "    driver.find_element(By.ID, 'onetrust-accept-btn-handler').click()"
   ]
  },
  {
   "cell_type": "code",
   "execution_count": 23,
   "metadata": {},
   "outputs": [],
   "source": [
    "def get_sports_buttons(driver) -> list:\n",
    "    buttons_list = driver.find_elements(By.CSS_SELECTOR, '.flex.flex-col.w-full.h-auto')\n",
    "    if len(buttons_list)==0:\n",
    "        buttons_list = driver.find_elements(By.CSS_SELECTOR, '.text-white-main.flex.h-full.items-center a')\n",
    "    return buttons_list"
   ]
  },
  {
   "cell_type": "code",
   "execution_count": 24,
   "metadata": {},
   "outputs": [],
   "source": [
    "def fill_sports_links_dict(sports_links_dict: dict, buttons_list: list) -> dict:\n",
    "    for button in buttons_list:\n",
    "            href = button.get_attribute('href')\n",
    "            sport = button.find_elements(By.CSS_SELECTOR, 'div')[1].text\n",
    "            if len(sport)==0:\n",
    "                sport = href.split('/')[-2]\n",
    "            sports_links_dict[sport.capitalize()] = href\n",
    "    return sports_links_dict\n"
   ]
  },
  {
   "cell_type": "code",
   "execution_count": 25,
   "metadata": {},
   "outputs": [],
   "source": [
    "def fill_main_dict_comps_and_cats(driver, main_dict: dict, sports_links_dict: dict) -> dict:\n",
    "    for sport in sports_links_dict.keys():\n",
    "        comps_links_dict = {}\n",
    "        list_cat = []\n",
    "        driver.get(sports_links_dict[sport])\n",
    "        time.sleep(1)\n",
    "        list_categories = driver.find_elements(By.CSS_SELECTOR, '.flex.items-center.w-full.h-10.gap-1.bg-gray-med_light span')\n",
    "        for elem in list_categories:\n",
    "            list_cat.append(elem.text)\n",
    "        list_competitions = driver.find_elements(By.CSS_SELECTOR, 'main .flex.flex-col .flex ul')\n",
    "        list_comp = []\n",
    "        for comp in list_competitions:\n",
    "            single_comp = []\n",
    "            single = comp.find_elements(By.CSS_SELECTOR, 'li a')\n",
    "            for elem in single:\n",
    "                name = ' '.join(elem.text.split(' ')[:-1])\n",
    "                single_comp.append({name: elem.get_attribute('href')})\n",
    "            list_comp.append(single_comp)\n",
    "\n",
    "        for i, j in zip(list_cat, list_comp):\n",
    "            comps_links_dict[i] = j\n",
    "        main_dict[sport] = comps_links_dict\n",
    "    return main_dict\n"
   ]
  },
  {
   "cell_type": "code",
   "execution_count": 38,
   "metadata": {},
   "outputs": [],
   "source": [
    "def compute_arbitrage(win1: float, win2: float, draw=None) -> bool:\n",
    "    if draw is None:\n",
    "        res = 1/win1+1/win2\n",
    "    else:\n",
    "        res = 1/win1+1/win2+1/draw\n",
    "    return res <1"
   ]
  },
  {
   "cell_type": "code",
   "execution_count": 27,
   "metadata": {},
   "outputs": [],
   "source": [
    "def get_links_list(driver, sports_links_dict: dict, main_dict: dict):\n",
    "        # for sport in sports_links_dict.keys():\n",
    "        links_list = []\n",
    "        for entry in main_dict['Calcio'].keys():\n",
    "        # for entry in main_dict['Calcio'].keys():\n",
    "                entry_list = main_dict['Calcio'][entry]\n",
    "                for elem in entry_list:\n",
    "                        try:\n",
    "                                driver.get(elem[list(elem.keys())[0]])\n",
    "                                time.sleep(0.5)\n",
    "                                all_events = driver.find_elements(By.CSS_SELECTOR, '.group.flex')\n",
    "                                all_events.pop(0)\n",
    "                        except:\n",
    "                                print(elem[list(elem.keys())[0]])\n",
    "                                continue\n",
    "                        try:\n",
    "                                for elem in all_events:\n",
    "                                        div = elem.find_elements(By.CSS_SELECTOR, 'p')\n",
    "                                        if div[-1].text != '-':\n",
    "                                                        link_event = elem.find_element(By.CSS_SELECTOR, 'a').get_attribute('href')\n",
    "                                                        teams = elem.find_elements(By.CSS_SELECTOR, '.participant-name.truncate')\n",
    "                                                        links_list.append([link_event, [teams[0].text, teams[1].text]])\n",
    "                        except:\n",
    "                                print(elem[list(elem.keys())[0]])\n",
    "                                continue\n",
    "        return links_list\n",
    "                                "
   ]
  },
  {
   "cell_type": "code",
   "execution_count": 28,
   "metadata": {},
   "outputs": [],
   "source": [
    "# def main():\n",
    "arbitrage_list = []\n",
    "draw = True\n",
    "dict_draws = get_draws_per_sport()\n",
    "base_url = 'https://www.oddsportal.com/it/'\n",
    "driver = webdriver.Firefox()\n",
    "get_and_accept_cookies(driver, base_url)\n",
    "buttons_list = get_sports_buttons(driver)\n",
    "sports_links_dict = fill_sports_links_dict({}, buttons_list)\n",
    "main_dict = fill_main_dict_comps_and_cats(driver, {}, sports_links_dict)\n",
    "links_list = get_links_list(driver, sports_links_dict, main_dict)\n",
    "# main()"
   ]
  },
  {
   "cell_type": "code",
   "execution_count": 39,
   "metadata": {},
   "outputs": [
    {
     "name": "stdout",
     "output_type": "stream",
     "text": [
      "['https://www.oddsportal.com/it/football/argentina/primera-nacional/almagro-gimnasia-mendoza-80Q4Zh86/', ['Almagro', 'Gimnasia Mendoza']] Exception list index out of range\n"
     ]
    }
   ],
   "source": [
    "arbitrage_list = []\n",
    "for link in links_list:\n",
    "    driver.get(link[0])\n",
    "    time.sleep(0.5)\n",
    "    try:\n",
    "        highest_cont = driver.find_elements(By.CSS_SELECTOR, 'div.border-black-borders.bg-gray-light.flex.h-9.border-b.border-l.border-r.text-xs')\n",
    "        p_cont = highest_cont[1].find_elements(By.CSS_SELECTOR, 'p')[1:]\n",
    "        highest1 = p_cont[0].text\n",
    "        highest2 = p_cont[-2].text\n",
    "        if draw:\n",
    "            highdraw = p_cont[1].text\n",
    "\n",
    "\n",
    "        if compute_arbitrage(float(highest1), float(highest2), draw=float(highdraw)):\n",
    "            print(link)\n",
    "            match_dict = {}\n",
    "            time_list = driver.find_elements(By.CSS_SELECTOR, '.flex.flex-col> div> div> p')[:3] # Time and day\n",
    "            time_list = [elem.text for elem in time_list]\n",
    "            match_dict['Day&Time'] = ' '.join(time_list)\n",
    "            match_dict['Participant1'] = link[1][0]\n",
    "            match_dict['Participant2'] = link[1][1]\n",
    "            container = driver.find_elements(By.CSS_SELECTOR, 'div[data-v-3eae8d94].flex.flex-col > div[data-v-21fd171a]')\n",
    "            container.pop(0)\n",
    "            for card in container:\n",
    "                bm = card.find_element(By.CSS_SELECTOR, 'p[data-v-155f876a]')\n",
    "                quotas = card.find_elements(By.CSS_SELECTOR, 'a[data-v-21fd171a]')\n",
    "                if len(quotas) == 0:\n",
    "                    quotas = card.find_elements(By.CSS_SELECTOR, 'p[data-v-21fd171a]')\n",
    "                for q in quotas:\n",
    "                    if q.text == highest1:\n",
    "                        match_dict['1'] = f'{bm.text}, {q.text}'\n",
    "                    elif q.text == highest2:\n",
    "                        match_dict['2'] = f'{bm.text}, {q.text}'\n",
    "                    elif q.text == highdraw:\n",
    "                        match_dict['X'] = f'{bm.text}, {q.text}'\n",
    "            arbitrage_list.append(match_dict)\n",
    "    except Exception as ex:\n",
    "        print(link, 'Exception', ex)\n",
    "        continue\n",
    "\n"
   ]
  },
  {
   "cell_type": "code",
   "execution_count": 13,
   "metadata": {},
   "outputs": [
    {
     "data": {
      "text/plain": [
       "[]"
      ]
     },
     "execution_count": 13,
     "metadata": {},
     "output_type": "execute_result"
    }
   ],
   "source": [
    "arbitrage_list"
   ]
  }
 ],
 "metadata": {
  "kernelspec": {
   "display_name": "Python 3",
   "language": "python",
   "name": "python3"
  },
  "language_info": {
   "codemirror_mode": {
    "name": "ipython",
    "version": 3
   },
   "file_extension": ".py",
   "mimetype": "text/x-python",
   "name": "python",
   "nbconvert_exporter": "python",
   "pygments_lexer": "ipython3",
   "version": "3.12.3"
  }
 },
 "nbformat": 4,
 "nbformat_minor": 2
}
