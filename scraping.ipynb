{
 "cells": [
  {
   "cell_type": "code",
   "execution_count": 69,
   "metadata": {},
   "outputs": [],
   "source": [
    "import pandas as pd # DataFrame management\n",
    "from selenium import webdriver # WebScraping driver\n",
    "from selenium.webdriver.common.by import By # WebScraping property library\n",
    "import time # Sleep library"
   ]
  },
  {
   "cell_type": "code",
   "execution_count": 70,
   "metadata": {},
   "outputs": [],
   "source": [
    "driver = webdriver.Firefox()"
   ]
  },
  {
   "cell_type": "code",
   "execution_count": 71,
   "metadata": {},
   "outputs": [],
   "source": [
    "base_url = 'https://www.oddsportal.com/it/'\n",
    "url2 = 'https://www.oddsportal.com/it/tennis/france/atp-french-open/'\n",
    "driver.get(base_url)\n",
    "time.sleep(1)\n",
    "driver.find_element(By.ID, 'onetrust-accept-btn-handler').click()\n"
   ]
  },
  {
   "cell_type": "code",
   "execution_count": 77,
   "metadata": {},
   "outputs": [],
   "source": [
    "buttons_list = driver.find_elements(By.CSS_SELECTOR, '.flex.flex-col.w-full.h-auto')\n",
    "if len(buttons_list)==0:\n",
    "    buttons_list = driver.find_elements(By.CSS_SELECTOR, '.text-white-main.flex.h-full.items-center a')"
   ]
  },
  {
   "cell_type": "code",
   "execution_count": 78,
   "metadata": {},
   "outputs": [
    {
     "name": "stdout",
     "output_type": "stream",
     "text": [
      "21\n"
     ]
    }
   ],
   "source": [
    "print(len(buttons_list))"
   ]
  },
  {
   "cell_type": "code",
   "execution_count": 89,
   "metadata": {},
   "outputs": [],
   "source": [
    "sports_links_dict = {}\n",
    "for button in buttons_list:\n",
    "        href = button.get_attribute('href')\n",
    "        sport = button.find_elements(By.CSS_SELECTOR, 'div')[1].text\n",
    "        if len(sport)==0:\n",
    "            sport = href.split('/')[-2]\n",
    "        sports_links_dict[sport.capitalize()] = href\n"
   ]
  },
  {
   "cell_type": "code",
   "execution_count": 124,
   "metadata": {},
   "outputs": [],
   "source": [
    "# for sport in sports_links_dict.keys():\n",
    "comps_links_dict = {}\n",
    "list_cat = []\n",
    "driver.get(sports_links_dict['Calcio'])\n",
    "time.sleep(1)\n",
    "list_categories = driver.find_elements(By.CSS_SELECTOR, '.flex.items-center.w-full.h-10.gap-1.bg-gray-med_light span')\n",
    "for elem in list_categories:\n",
    "    list_cat.append(elem.text)\n",
    "list_competitions = driver.find_elements(By.CSS_SELECTOR, 'main .flex.flex-col .flex ul')\n",
    "list_comp = []\n",
    "for comp in list_competitions:\n",
    "    single_comp = []\n",
    "    single = comp.find_elements(By.CSS_SELECTOR, 'li a')\n",
    "    for elem in single:\n",
    "        name = ' '.join(elem.text.split(' ')[:-1])\n",
    "        single_comp.append({name: elem.get_attribute('href')})\n",
    "    list_comp.append(single_comp)\n",
    "\n",
    "for i, j in zip(list_cat, list_comp):\n",
    "    comps_links_dict[i] = j\n"
   ]
  },
  {
   "cell_type": "code",
   "execution_count": 125,
   "metadata": {},
   "outputs": [
    {
     "data": {
      "text/plain": [
       "{'Popolari': [{'Europei 2024': 'https://www.oddsportal.com/it/football/europe/europei-2024/'},\n",
       "  {'Europei U21': 'https://www.oddsportal.com/it/football/europe/campionati-europei-u21/'}],\n",
       " 'Argentina': [{'Liga Profesional': 'https://www.oddsportal.com/it/football/argentina/liga-profesional/'},\n",
       "  {'Primera Nacional': 'https://www.oddsportal.com/it/football/argentina/primera-nacional/'},\n",
       "  {'Copa Argentina': 'https://www.oddsportal.com/it/football/argentina/copa-argentina/'}],\n",
       " 'Australia': [{'NPL ACT': 'https://www.oddsportal.com/it/football/australia/npl-act/'},\n",
       "  {'NPL Northern NSW': 'https://www.oddsportal.com/it/football/australia/npl-northern-nsw/'},\n",
       "  {'NPL Queensland': 'https://www.oddsportal.com/it/football/australia/npl-queensland/'},\n",
       "  {'NSW League One': 'https://www.oddsportal.com/it/football/australia/nsw-league-one/'},\n",
       "  {'Queensland Premier League': 'https://www.oddsportal.com/it/football/australia/queensland-premier-league/'}],\n",
       " 'Austria': [{'Burgenland': 'https://www.oddsportal.com/it/football/austria/burgenland/'},\n",
       "  {'Salzburg': 'https://www.oddsportal.com/it/football/austria/salzburg/'}],\n",
       " 'Brasile': [{'Serie A': 'https://www.oddsportal.com/it/football/brazil/serie-a/'},\n",
       "  {'Serie B': 'https://www.oddsportal.com/it/football/brazil/serie-b/'},\n",
       "  {'Serie D': 'https://www.oddsportal.com/it/football/brazil/serie-d/'},\n",
       "  {'Carioca 2': 'https://www.oddsportal.com/it/football/brazil/carioca-2/'},\n",
       "  {'Gaucho 2': 'https://www.oddsportal.com/it/football/brazil/gaucho-2/'},\n",
       "  {'Mineiro 2': 'https://www.oddsportal.com/it/football/brazil/mineiro-2/'},\n",
       "  {'Roraimense': 'https://www.oddsportal.com/it/football/brazil/roraimense/'},\n",
       "  {'Copa do Nordeste': 'https://www.oddsportal.com/it/football/brazil/copa-do-nordeste/'},\n",
       "  {'Brasileiro U20': 'https://www.oddsportal.com/it/football/brazil/brasileiro-u20/'},\n",
       "  {'Brasileiro Donne': 'https://www.oddsportal.com/it/football/brazil/brasileiro-donne/'},\n",
       "  {'Paulista Donne': 'https://www.oddsportal.com/it/football/brazil/paulista-donne/'}],\n",
       " 'Canada': [{'Canadian Premier League': 'https://www.oddsportal.com/it/football/canada/canadian-premier-league/'}],\n",
       " 'Cile': [{'Primera División': 'https://www.oddsportal.com/it/football/chile/primera-division/'},\n",
       "  {'Primera B': 'https://www.oddsportal.com/it/football/chile/primera-b/'}],\n",
       " 'Cina': [{'Super League': 'https://www.oddsportal.com/it/football/china/super-league/'}],\n",
       " 'Colombia': [{'Primera A': 'https://www.oddsportal.com/it/football/colombia/primera-a/'},\n",
       "  {'Primera B': 'https://www.oddsportal.com/it/football/colombia/primera-b/'},\n",
       "  {'Liga Women': 'https://www.oddsportal.com/it/football/colombia/liga-women/'}],\n",
       " 'Danimarca': [{'2nd Division': 'https://www.oddsportal.com/it/football/denmark/2nd-division/'}],\n",
       " 'Ecuador': [{'Serie B': 'https://www.oddsportal.com/it/football/ecuador/serie-b/'}],\n",
       " 'Emirati Arabi': [{'UAE League': 'https://www.oddsportal.com/it/football/united-arab-emirates/uae-league/'}],\n",
       " 'Etiopia': [{'Premier League': 'https://www.oddsportal.com/it/football/ethiopia/premier-league/'}],\n",
       " 'Europa': [{'Europei 2024': 'https://www.oddsportal.com/it/football/europe/europei-2024/'},\n",
       "  {'Europei U21': 'https://www.oddsportal.com/it/football/europe/campionati-europei-u21/'},\n",
       "  {'Supercoppa UEFA': 'https://www.oddsportal.com/it/football/europe/uefa-supercoppa/'},\n",
       "  {'Coppa Baltica U21': 'https://www.oddsportal.com/it/football/europe/coppa-baltica-u21/'}],\n",
       " 'Finlandia': [{'Veikkausliiga': 'https://www.oddsportal.com/it/football/finland/veikkausliiga/'},\n",
       "  {'Ykkosliiga': 'https://www.oddsportal.com/it/football/finland/ykkosliiga/'},\n",
       "  {'Ykkonen': 'https://www.oddsportal.com/it/football/finland/ykkonen/'},\n",
       "  {'Kakkonen - Group A': 'https://www.oddsportal.com/it/football/finland/kakkonen-group-a/'}],\n",
       " 'Germania': [{'Oberliga Play Offs': 'https://www.oddsportal.com/it/football/germany/oberliga-play-offs/'},\n",
       "  {'DFB Pokal': 'https://www.oddsportal.com/it/football/germany/dfb-pokal/'}],\n",
       " 'Giappone': [{'J1 League': 'https://www.oddsportal.com/it/football/japan/j1-league/'},\n",
       "  {'J2 League': 'https://www.oddsportal.com/it/football/japan/j2-league/'},\n",
       "  {'J3 League': 'https://www.oddsportal.com/it/football/japan/j3-league/'},\n",
       "  {'YBC Levain Cup': 'https://www.oddsportal.com/it/football/japan/ybc-levain-cup/'}],\n",
       " 'Iran': [{'Division 1': 'https://www.oddsportal.com/it/football/iran/division-1/'}],\n",
       " 'Iraq': [{'Stars League': 'https://www.oddsportal.com/it/football/iraq/stars-league/'}],\n",
       " 'Irlanda': [{'Premier Division': 'https://www.oddsportal.com/it/football/ireland/premier-division/'},\n",
       "  {'Division 1': 'https://www.oddsportal.com/it/football/ireland/division-1/'}],\n",
       " 'Islanda': [{'Division 1': 'https://www.oddsportal.com/it/football/iceland/division-1/'}],\n",
       " 'Italia': [{'Serie C - Play Off Promozione': 'https://www.oddsportal.com/it/football/italy/serie-c-play-off-promozione/'},\n",
       "  {'Serie D - Fase Vincitori': 'https://www.oddsportal.com/it/football/italy/serie-d-fase-vincitori/'}],\n",
       " 'Macao': [{'Elite League': 'https://www.oddsportal.com/it/football/macao/elite-league/'}],\n",
       " 'Mondo': [{'Mondiali 2026': 'https://www.oddsportal.com/it/football/world/coppa-del-mondo-2026/'},\n",
       "  {'Amichevoli Nazionali': 'https://www.oddsportal.com/it/football/world/amichevoli-nazionali/'},\n",
       "  {'Maurice Revello Tournament': 'https://www.oddsportal.com/it/football/world/maurice-revello-tournament/'},\n",
       "  {'Amichevoli Internazionali - Femminile': 'https://www.oddsportal.com/it/football/world/friendly-international-donne/'}],\n",
       " 'Norvegia': [{'OBOS-ligaen': 'https://www.oddsportal.com/it/football/norway/obos-ligaen/'}],\n",
       " 'Paraguay': [{'Primera Division': 'https://www.oddsportal.com/it/football/paraguay/primera-division/'}],\n",
       " 'Peru': [{'Liga 2': 'https://www.oddsportal.com/it/football/peru/liga-2/'}],\n",
       " 'Polonia': [{'III Liga - Group I': 'https://www.oddsportal.com/it/football/poland/iii-liga-group-i/'}],\n",
       " 'Repubblica Ceca': [{'CFL - Group B': 'https://www.oddsportal.com/it/football/czech-republic/cfl-group-b/'},\n",
       "  {'MSFL': 'https://www.oddsportal.com/it/football/czech-republic/msfl/'}],\n",
       " 'Romania': [{'Liga 3 - Promotion Play Offs': 'https://www.oddsportal.com/it/football/romania/liga-3-promotion-play-offs/'}],\n",
       " 'Spagna': [{'LaLiga2': 'https://www.oddsportal.com/it/football/spain/laliga2/'},\n",
       "  {'Liga F - Femminile': 'https://www.oddsportal.com/it/football/spain/liga-f-femminile/'}],\n",
       " 'Sud America': [{'Copa America': 'https://www.oddsportal.com/it/football/south-america/copa-america/'},\n",
       "  {'Copa Libertadores': 'https://www.oddsportal.com/it/football/south-america/copa-libertadores/'},\n",
       "  {'Copa Sudamericana': 'https://www.oddsportal.com/it/football/south-america/copa-sudamericana/'}],\n",
       " 'Sudafrica': [{'Premier League': 'https://www.oddsportal.com/it/football/south-africa/premier-league/'}],\n",
       " 'Svezia': [{'Allsvenskan': 'https://www.oddsportal.com/it/football/sweden/allsvenskan/'},\n",
       "  {'Division 1, Södra': 'https://www.oddsportal.com/it/football/sweden/division-1-sodra/'},\n",
       "  {'Division 2 - Norrland': 'https://www.oddsportal.com/it/football/sweden/division-2-norrland/'},\n",
       "  {'Division 2 - Norra Götaland': 'https://www.oddsportal.com/it/football/sweden/division-2-norra-gotaland/'},\n",
       "  {'Division 2 - Södra Götaland': 'https://www.oddsportal.com/it/football/sweden/division-2-sodra-gotaland/'},\n",
       "  {'Svenska Cupen': 'https://www.oddsportal.com/it/football/sweden/svenska-cupen/'},\n",
       "  {'Allsvenskan - Femminile': 'https://www.oddsportal.com/it/football/sweden/allsvenskan-donne/'}],\n",
       " 'Uruguay': [{'Primera Division': 'https://www.oddsportal.com/it/football/uruguay/primera-division/'},\n",
       "  {'Segunda Division': 'https://www.oddsportal.com/it/football/uruguay/segunda-division/'}],\n",
       " 'USA': [{'MLS': 'https://www.oddsportal.com/it/football/usa/mls/'},\n",
       "  {'USL Championship': 'https://www.oddsportal.com/it/football/usa/usl-championship/'},\n",
       "  {'MLS Next Pro': 'https://www.oddsportal.com/it/football/usa/mls-next-pro/'},\n",
       "  {'USL League One': 'https://www.oddsportal.com/it/football/usa/usl-league-one/'},\n",
       "  {'USL League Two': 'https://www.oddsportal.com/it/football/usa/usl-league-two/'}]}"
      ]
     },
     "execution_count": 125,
     "metadata": {},
     "output_type": "execute_result"
    }
   ],
   "source": [
    "comps_links_dict"
   ]
  },
  {
   "cell_type": "code",
   "execution_count": 40,
   "metadata": {},
   "outputs": [
    {
     "data": {
      "text/plain": [
       "<selenium.webdriver.remote.webelement.WebElement (session=\"a5494b1d-da1b-4409-a50a-a142c4a3e957\", element=\"202f08e9-7b7e-4f00-b8d5-8463501780e0\")>"
      ]
     },
     "execution_count": 40,
     "metadata": {},
     "output_type": "execute_result"
    }
   ],
   "source": [
    "all_events = driver.find_elements(By.CSS_SELECTOR, '.group.flex')\n",
    "all_events.pop(0)"
   ]
  },
  {
   "cell_type": "code",
   "execution_count": 41,
   "metadata": {},
   "outputs": [
    {
     "name": "stdout",
     "output_type": "stream",
     "text": [
      "4\n"
     ]
    }
   ],
   "source": [
    "print(len(all_events))"
   ]
  },
  {
   "cell_type": "code",
   "execution_count": 42,
   "metadata": {},
   "outputs": [],
   "source": [
    "list_events = []\n",
    "for event in all_events:\n",
    "    event_dict = {}\n",
    "    names = event.find_elements(By.CSS_SELECTOR, 'p')\n",
    "    event_dict['Time'] = names[0].text\n",
    "    event_dict['Player1'] = names[1].text\n",
    "    event_dict['Player2'] = names[2].text\n",
    "    event_dict['1'] = names[3].text\n",
    "    event_dict['2'] = names[4].text\n",
    "    list_events.append(event_dict)"
   ]
  },
  {
   "cell_type": "code",
   "execution_count": 44,
   "metadata": {},
   "outputs": [],
   "source": [
    "df = pd.DataFrame(list_events)"
   ]
  },
  {
   "cell_type": "code",
   "execution_count": 45,
   "metadata": {},
   "outputs": [
    {
     "data": {
      "text/html": [
       "<div>\n",
       "<style scoped>\n",
       "    .dataframe tbody tr th:only-of-type {\n",
       "        vertical-align: middle;\n",
       "    }\n",
       "\n",
       "    .dataframe tbody tr th {\n",
       "        vertical-align: top;\n",
       "    }\n",
       "\n",
       "    .dataframe thead th {\n",
       "        text-align: right;\n",
       "    }\n",
       "</style>\n",
       "<table border=\"1\" class=\"dataframe\">\n",
       "  <thead>\n",
       "    <tr style=\"text-align: right;\">\n",
       "      <th></th>\n",
       "      <th>Time</th>\n",
       "      <th>Player1</th>\n",
       "      <th>Player2</th>\n",
       "      <th>1</th>\n",
       "      <th>2</th>\n",
       "    </tr>\n",
       "  </thead>\n",
       "  <tbody>\n",
       "    <tr>\n",
       "      <th>0</th>\n",
       "      <td>14:00</td>\n",
       "      <td>Dimitrov G.</td>\n",
       "      <td>Sinner J.</td>\n",
       "      <td>4.51</td>\n",
       "      <td>1.20</td>\n",
       "    </tr>\n",
       "    <tr>\n",
       "      <th>1</th>\n",
       "      <td>20:15</td>\n",
       "      <td>Tsitsipas S.</td>\n",
       "      <td>Alcaraz C.</td>\n",
       "      <td>4.23</td>\n",
       "      <td>1.23</td>\n",
       "    </tr>\n",
       "    <tr>\n",
       "      <th>2</th>\n",
       "      <td>11:00</td>\n",
       "      <td>Djokovic N.</td>\n",
       "      <td>Ruud C.</td>\n",
       "      <td>2.00</td>\n",
       "      <td>1.80</td>\n",
       "    </tr>\n",
       "    <tr>\n",
       "      <th>3</th>\n",
       "      <td>11:00</td>\n",
       "      <td>Zverev A.</td>\n",
       "      <td>De Minaur A.</td>\n",
       "      <td>1.40</td>\n",
       "      <td>2.93</td>\n",
       "    </tr>\n",
       "  </tbody>\n",
       "</table>\n",
       "</div>"
      ],
      "text/plain": [
       "    Time       Player1       Player2     1     2\n",
       "0  14:00   Dimitrov G.     Sinner J.  4.51  1.20\n",
       "1  20:15  Tsitsipas S.    Alcaraz C.  4.23  1.23\n",
       "2  11:00   Djokovic N.       Ruud C.  2.00  1.80\n",
       "3  11:00     Zverev A.  De Minaur A.  1.40  2.93"
      ]
     },
     "execution_count": 45,
     "metadata": {},
     "output_type": "execute_result"
    }
   ],
   "source": [
    "df"
   ]
  }
 ],
 "metadata": {
  "kernelspec": {
   "display_name": "Python 3",
   "language": "python",
   "name": "python3"
  },
  "language_info": {
   "codemirror_mode": {
    "name": "ipython",
    "version": 3
   },
   "file_extension": ".py",
   "mimetype": "text/x-python",
   "name": "python",
   "nbconvert_exporter": "python",
   "pygments_lexer": "ipython3",
   "version": "3.12.3"
  }
 },
 "nbformat": 4,
 "nbformat_minor": 2
}
