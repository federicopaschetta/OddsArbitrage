{
 "cells": [
  {
   "cell_type": "code",
   "execution_count": 1,
   "metadata": {},
   "outputs": [],
   "source": [
    "import pandas as pd # DataFrame management\n",
    "from selenium import webdriver # WebScraping driver\n",
    "from selenium.webdriver.common.by import By # WebScraping property library\n",
    "import time # Sleep library"
   ]
  },
  {
   "cell_type": "code",
   "execution_count": 2,
   "metadata": {},
   "outputs": [],
   "source": [
    "def get_sports_draw_info(filepath: str) -> dict:\n",
    "    draws_dict = {}\n",
    "    with open(filepath, 'r') as draw_file:\n",
    "        for line in draw_file:\n",
    "            line = line.strip().split(',')\n",
    "            draws_dict[line[0]] = line[1]=='T'\n",
    "    return draws_dict"
   ]
  },
  {
   "cell_type": "code",
   "execution_count": 3,
   "metadata": {},
   "outputs": [],
   "source": [
    "def get_and_accept_cookies(driver, url: str) -> None:\n",
    "    driver.get(url)\n",
    "    time.sleep(1)\n",
    "    driver.find_element(By.ID, 'onetrust-accept-btn-handler').click()"
   ]
  },
  {
   "cell_type": "code",
   "execution_count": 4,
   "metadata": {},
   "outputs": [],
   "source": [
    "def get_sports_buttons(driver) -> list:\n",
    "    buttons_list = driver.find_elements(By.CSS_SELECTOR, '.flex.flex-col.w-full.h-auto')\n",
    "    if len(buttons_list)==0:\n",
    "        buttons_list = driver.find_elements(By.CSS_SELECTOR, '.text-white-main.flex.h-full.items-center a')\n",
    "    return buttons_list"
   ]
  },
  {
   "cell_type": "code",
   "execution_count": 5,
   "metadata": {},
   "outputs": [],
   "source": [
    "def fill_sports_links_dict(sports_links_dict: dict, buttons_list: list) -> dict:\n",
    "    for button in buttons_list:\n",
    "            href = button.get_attribute('href')\n",
    "            sport = button.find_elements(By.CSS_SELECTOR, 'div')[1].text\n",
    "            if len(sport)==0:\n",
    "                sport = href.split('/')[-2]\n",
    "            sports_links_dict[sport.capitalize()] = href\n",
    "    return sports_links_dict\n"
   ]
  },
  {
   "cell_type": "code",
   "execution_count": 6,
   "metadata": {},
   "outputs": [],
   "source": [
    "def fill_main_dict_comps_and_cats(driver, main_dict: dict, sports_links_dict: dict) -> dict:\n",
    "    for sport in sports_links_dict.keys():\n",
    "        comps_links_dict = {}\n",
    "        list_cat = []\n",
    "        driver.get(sports_links_dict[sport])\n",
    "        time.sleep(0.5)\n",
    "        list_categories = driver.find_elements(By.CSS_SELECTOR, '.flex.items-center.w-full.h-10.gap-1.bg-gray-med_light span')\n",
    "        for elem in list_categories:\n",
    "            list_cat.append(elem.text)\n",
    "        list_competitions = driver.find_elements(By.CSS_SELECTOR, 'main .flex.flex-col .flex ul')\n",
    "        list_comp = []\n",
    "        for comp in list_competitions:\n",
    "            single_comp = []\n",
    "            single = comp.find_elements(By.CSS_SELECTOR, 'li a')\n",
    "            for elem in single:\n",
    "                name = ' '.join(elem.text.split(' ')[:-1])\n",
    "                single_comp.append({name: elem.get_attribute('href')})\n",
    "            list_comp.append(single_comp)\n",
    "\n",
    "        for i, j in zip(list_cat, list_comp):\n",
    "            comps_links_dict[i] = j\n",
    "        main_dict[sport] = comps_links_dict\n",
    "    return main_dict\n"
   ]
  },
  {
   "cell_type": "code",
   "execution_count": 7,
   "metadata": {},
   "outputs": [],
   "source": [
    "def compute_arbitrage(win1: float, win2: float, draw=None) -> bool:\n",
    "    if draw is None:\n",
    "        res = 1/win1+1/win2\n",
    "    else:\n",
    "        res = 1/win1+1/win2+1/draw\n",
    "    return res <1"
   ]
  },
  {
   "cell_type": "code",
   "execution_count": 8,
   "metadata": {},
   "outputs": [],
   "source": [
    "def get_links_list(driver, sports_links_dict: dict, main_dict: dict):\n",
    "        links_dict = {}\n",
    "        for sport in sports_links_dict.keys():\n",
    "                links_list = []\n",
    "                for entry in main_dict[sport].keys():\n",
    "                        entry_list = main_dict[sport][entry]\n",
    "                        for elem in entry_list:\n",
    "                                try:\n",
    "                                        driver.get(elem[list(elem.keys())[0]])\n",
    "                                        time.sleep(0.5)\n",
    "                                        all_events = driver.find_elements(By.CSS_SELECTOR, '.group.flex')\n",
    "                                        all_events.pop(0)\n",
    "                                except:\n",
    "                                        print('Ex', elem[list(elem.keys())[0]])\n",
    "                                        continue\n",
    "                                try:\n",
    "                                        for elem in all_events:\n",
    "                                                div = elem.find_elements(By.CSS_SELECTOR, 'p')\n",
    "                                                if div[-1].text != '-':\n",
    "                                                                link_event = elem.find_element(By.CSS_SELECTOR, 'a').get_attribute('href')\n",
    "                                                                teams = elem.find_elements(By.CSS_SELECTOR, '.participant-name.truncate')\n",
    "                                                                links_list.append([link_event, [teams[0].text, teams[1].text]])\n",
    "                                except:\n",
    "                                        print('Ex', elem[list(elem.keys())[0]])\n",
    "                                        continue\n",
    "                links_dict[sport] = links_list\n",
    "        return links_dict\n",
    "                                "
   ]
  },
  {
   "cell_type": "code",
   "execution_count": 9,
   "metadata": {},
   "outputs": [],
   "source": [
    "def get_arbitrage_matches(driver, game_links_dict, dict_draws):\n",
    "    arbitrage_list = []\n",
    "    for link in game_links_dict.keys():\n",
    "        for game_link in game_links_dict[link]:\n",
    "            driver.get(game_link[0])\n",
    "            time.sleep(0.5)\n",
    "            try:\n",
    "                highest_cont = driver.find_elements(By.CSS_SELECTOR, 'div.border-black-borders.bg-gray-light.flex.h-9.border-b.border-l.border-r.text-xs')\n",
    "                p_cont = highest_cont[1].find_elements(By.CSS_SELECTOR, 'p')[1:]\n",
    "                highest1 = p_cont[0].text\n",
    "                highest2 = p_cont[-2].text\n",
    "                if dict_draws[link]:\n",
    "                    highdraw = p_cont[1].text\n",
    "                    arbitrage_available = compute_arbitrage(float(highest1), float(highest2), draw=float(highdraw))\n",
    "                else:\n",
    "                    arbitrage_available = compute_arbitrage(float(highest1), float(highest2))\n",
    "                    \n",
    "                if arbitrage_available:\n",
    "                    print(link)\n",
    "                    match_dict = {}\n",
    "                    time_list = driver.find_elements(By.CSS_SELECTOR, '.flex.flex-col> div> div> p')[:3] # Time and day\n",
    "                    time_list = [elem.text for elem in time_list]\n",
    "                    match_dict['Day&Time'] = ' '.join(time_list)\n",
    "                    match_dict['Participant1'] = link[1][0]\n",
    "                    match_dict['Participant2'] = link[1][1]\n",
    "                    container = driver.find_elements(By.CSS_SELECTOR, 'div[data-v-3eae8d94].flex.flex-col > div[data-v-21fd171a]')\n",
    "                    container.pop(0)\n",
    "                    for card in container:\n",
    "                        bm = card.find_element(By.CSS_SELECTOR, 'p[data-v-155f876a]')\n",
    "                        quotas = card.find_elements(By.CSS_SELECTOR, 'a[data-v-21fd171a]')\n",
    "                        if len(quotas) == 0:\n",
    "                            quotas = card.find_elements(By.CSS_SELECTOR, 'p[data-v-21fd171a]')\n",
    "                        for q in quotas:\n",
    "                            if q.text == highest1:\n",
    "                                match_dict['1'] = f'{bm.text}, {q.text}'\n",
    "                            elif q.text == highest2:\n",
    "                                match_dict['2'] = f'{bm.text}, {q.text}'\n",
    "                            elif dict_draws[link] and q.text == highdraw:\n",
    "                                match_dict['X'] = f'{bm.text}, {q.text}'\n",
    "                    arbitrage_list.append(match_dict)\n",
    "            except Exception as ex:\n",
    "                print('Ex', ex)\n",
    "                continue\n",
    "        return arbitrage_list\n",
    "\n"
   ]
  },
  {
   "cell_type": "code",
   "execution_count": 10,
   "metadata": {},
   "outputs": [],
   "source": [
    "def main():\n",
    "    arbitrage_list = []\n",
    "    dict_draws = get_sports_draw_info('draws.txt')\n",
    "    base_url = 'https://www.oddsportal.com/it/'\n",
    "    driver = webdriver.Firefox()\n",
    "    get_and_accept_cookies(driver, base_url)\n",
    "    buttons_list = get_sports_buttons(driver)\n",
    "    sports_links_dict = fill_sports_links_dict({}, buttons_list)\n",
    "    main_dict = fill_main_dict_comps_and_cats(driver, {}, sports_links_dict)\n",
    "    game_links_dict = get_links_list(driver, sports_links_dict, main_dict)\n",
    "    arbitrage_list = get_arbitrage_matches(driver, game_links_dict, dict_draws)\n",
    "    print(arbitrage_list)\n"
   ]
  },
  {
   "cell_type": "code",
   "execution_count": 11,
   "metadata": {},
   "outputs": [
    {
     "ename": "TypeError",
     "evalue": "get_arbitrage_matches() missing 1 required positional argument: 'dict_draws'",
     "output_type": "error",
     "traceback": [
      "\u001b[1;31m---------------------------------------------------------------------------\u001b[0m",
      "\u001b[1;31mTypeError\u001b[0m                                 Traceback (most recent call last)",
      "Cell \u001b[1;32mIn[11], line 1\u001b[0m\n\u001b[1;32m----> 1\u001b[0m \u001b[43mmain\u001b[49m\u001b[43m(\u001b[49m\u001b[43m)\u001b[49m\n",
      "Cell \u001b[1;32mIn[10], line 11\u001b[0m, in \u001b[0;36mmain\u001b[1;34m()\u001b[0m\n\u001b[0;32m      9\u001b[0m main_dict \u001b[38;5;241m=\u001b[39m fill_main_dict_comps_and_cats(driver, {}, sports_links_dict)\n\u001b[0;32m     10\u001b[0m game_links_dict \u001b[38;5;241m=\u001b[39m get_links_list(driver, sports_links_dict, main_dict)\n\u001b[1;32m---> 11\u001b[0m arbitrage_list \u001b[38;5;241m=\u001b[39m \u001b[43mget_arbitrage_matches\u001b[49m\u001b[43m(\u001b[49m\u001b[43mgame_links_dict\u001b[49m\u001b[43m,\u001b[49m\u001b[43m \u001b[49m\u001b[43mdict_draws\u001b[49m\u001b[43m)\u001b[49m\n\u001b[0;32m     12\u001b[0m \u001b[38;5;28mprint\u001b[39m(arbitrage_list)\n",
      "\u001b[1;31mTypeError\u001b[0m: get_arbitrage_matches() missing 1 required positional argument: 'dict_draws'"
     ]
    }
   ],
   "source": [
    "main()"
   ]
  }
 ],
 "metadata": {
  "kernelspec": {
   "display_name": "Python 3",
   "language": "python",
   "name": "python3"
  },
  "language_info": {
   "codemirror_mode": {
    "name": "ipython",
    "version": 3
   },
   "file_extension": ".py",
   "mimetype": "text/x-python",
   "name": "python",
   "nbconvert_exporter": "python",
   "pygments_lexer": "ipython3",
   "version": "3.12.3"
  }
 },
 "nbformat": 4,
 "nbformat_minor": 2
}
